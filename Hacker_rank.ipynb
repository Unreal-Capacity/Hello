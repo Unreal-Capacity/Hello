{
 "cells": [
  {
   "cell_type": "code",
   "execution_count": null,
   "metadata": {},
   "outputs": [],
   "source": [
    "#Revisit till you understand54\n",
    "\n",
    "\n",
    "\n",
    "# Enter your code here. Read input from STDIN. Print output to STDOUT\n",
    "from html.parser import HTMLParser\n",
    "class MyHTMLParser(HTMLParser):\n",
    "    def handle_starttag(self, tag, attrs):\n",
    "        print(tag)\n",
    "        for attr, value in attrs:\n",
    "            print(\"->\", attr, \">\", value)\n",
    "    def handle_startendtag(self, tag, attrs):\n",
    "        print(tag)\n",
    "        for attr, value in attrs:\n",
    "            print(\"->\", attr, \">\", value)\n",
    "            \n",
    "html = ''\n",
    "for _ in range(int(input())):\n",
    "    html += input().rstrip() + '\\n'            \n",
    "parser = MyHTMLParser()\n",
    "parser.feed(html)"
   ]
  },
  {
   "cell_type": "code",
   "execution_count": null,
   "metadata": {},
   "outputs": [],
   "source": [
    "import string\n",
    "import random\n",
    "count = 1"
   ]
  },
  {
   "cell_type": "code",
   "execution_count": null,
   "metadata": {},
   "outputs": [],
   "source": [
    "def starter():\n",
    "    cache = {}\n",
    "    def ID_gen(m):\n",
    "        abc = string.ascii_letters\n",
    "        num = string.digits\n",
    "        #print(general)\n",
    "        if m in cache[m]:\n",
    "            return cache[m]\n",
    "        else:\n",
    "            general = list(abc)+list(num)\n",
    "            n = random.sample(range(0,len(general)),10)\n",
    "            result = []\n",
    "            for j in n:\n",
    "                #print(general[i])\n",
    "                result.append(general[j])\n",
    "            result = ''.join(result)\n",
    "            result = m\n",
    "            cache[m] = result\n",
    "        return result\n",
    "    return ID_gen(0)"
   ]
  },
  {
   "cell_type": "code",
   "execution_count": null,
   "metadata": {},
   "outputs": [],
   "source": [
    "'''\n",
    "Understanding Split method\n",
    "you can mutiple variables from a single input using split method.\n",
    "However, if you itemised only 2 variables then the value entered must be 2 (string, integer, float, Boolean), Seperated by a space\n",
    "if you enter more or less, You get an error message\n",
    "you can avoid this by storing one of your variable as an array by using the (*) before the variable name,\n",
    "This means the remainder of the information would be stored into the variable as an array \n",
    "'''\n",
    "method,l,*s=input().split()\n",
    "print(method, l, s)"
   ]
  },
  {
   "cell_type": "code",
   "execution_count": null,
   "metadata": {},
   "outputs": [],
   "source": [
    "m = list()\n",
    "for _ in range(int(input(\"Enter number of commands: \"))):\n",
    "    method, *l = input(\"Enter a Command: \").split()\n",
    "    k = list(map(int,l))\n",
    "    if method == 'append':\n",
    "        m.append(k[0])\n",
    "    elif method == 'sort':\n",
    "        m.sort()\n",
    "    elif method == 'pop':\n",
    "        m.pop()\n",
    "    elif method == 'insert':\n",
    "        m.insert(k[0], k[1])\n",
    "    elif method == 'print':\n",
    "        print(m)\n",
    "    elif method == 'reverse':\n",
    "        m.reverse()\n",
    "    elif method == 'remove':\n",
    "        m.remove(k[0])"
   ]
  },
  {
   "cell_type": "code",
   "execution_count": null,
   "metadata": {},
   "outputs": [],
   "source": [
    "val = (1,2,3,4,5,6,)\n",
    "print(hash(val))"
   ]
  },
  {
   "cell_type": "code",
   "execution_count": null,
   "metadata": {},
   "outputs": [],
   "source": [
    "N = int(input())\n",
    "T = tuple(int(x) for x in input().split())\n",
    "print(hash(T))"
   ]
  },
  {
   "cell_type": "code",
   "execution_count": null,
   "metadata": {},
   "outputs": [],
   "source": [
    "x = 1\n",
    "y = 1\n",
    "z = 2\n",
    "n = 3\n",
    "listen=[]\n",
    "for i in range(x+1):\n",
    "    for j in range(y+1):\n",
    "        for k in range(z+1):\n",
    "            if i+j+k !=n:\n",
    "                a = [i,j,k]\n",
    "                listen.append(a)\n",
    "print(listen)           \n",
    "                \n"
   ]
  },
  {
   "cell_type": "code",
   "execution_count": null,
   "metadata": {},
   "outputs": [],
   "source": [
    "arr = [1,2,3,4,7,4,5,6]\n",
    "print(arr)\n",
    "arr =[*set(arr)]\n",
    "print(arr)\n",
    "arr.sort()\n",
    "arr.reverse()\n",
    "print(arr[1])"
   ]
  },
  {
   "cell_type": "code",
   "execution_count": null,
   "metadata": {},
   "outputs": [],
   "source": [
    "lst = [['dhf', 3.0 ], ['dhe', 2.3 ], ['lsf', 2.5 ], ['dgh', 2.3 ], ['ddf', 4.0 ],]\n",
    "dico = {k[0] : k[1] for k in lst}\n"
   ]
  },
  {
   "cell_type": "code",
   "execution_count": null,
   "metadata": {},
   "outputs": [],
   "source": [
    "lister = [['dhf', 3.0 ], ['abc', 2.3 ], ['lsf', 2.5 ], ['dcba', 2.3 ], ['ddf', 4.0 ]]\n",
    "sort = []\n",
    "#for _ in range(int(input())):\n",
    "    #name = input()\n",
    "    #score = float(input())\n",
    "    #a = [name, score]\n",
    "    #list.append(a)\n",
    "dico = {k[0] : k[1] for k in lister}\n",
    "#print(min(dico.values()))\n",
    "m = list(dico.values())\n",
    "m = [*set(m)]\n",
    "m.sort()\n",
    "a = m[1]\n",
    "print(m)\n",
    "print(a, dico.values())\n",
    "#for _ in dico:\n",
    "#    if dico[_] == a:\n",
    "#        sort.append(_)\n",
    "#    sort.sort()\n",
    "#for i in range(len(sort)):\n",
    "#    print(sort[i])\n"
   ]
  },
  {
   "cell_type": "code",
   "execution_count": null,
   "metadata": {},
   "outputs": [],
   "source": [
    "import math"
   ]
  },
  {
   "cell_type": "code",
   "execution_count": null,
   "metadata": {},
   "outputs": [],
   "source": [
    "fico = {\n",
    "    \"Bolu\" : [20,30,29],\n",
    "    \"Shola\" : [30, 43,38]\n",
    "        }\n",
    "n = fico[\"Shola\"]\n",
    "print(sum(n)/len(n))"
   ]
  },
  {
   "cell_type": "code",
   "execution_count": null,
   "metadata": {},
   "outputs": [],
   "source": [
    "a = \"Bucky\"\n",
    "b = \"Barnes\"\n",
    "\n",
    "print(f'Hello {a} {b}! You just delved into python.')"
   ]
  },
  {
   "cell_type": "code",
   "execution_count": null,
   "metadata": {},
   "outputs": [],
   "source": [
    "s = \"#$%@^&*kjnk svskjnbui h 4oi3hheuh /dfh uidshvhdsuihv suihc 0hrem89m4c02mw4xo;,wh fwhncoishmxlxfkjsahnxu83v 08 n8OHOIHIOMOICWHOFCMHEOFMCOEJMC0J09C 03J J3L;JMFC3JM3JC3'JIOO9MMJ099U N090N9 OOHOLNHNLLKNLKNKNNNNNNNNNNNNNNNNNNNNNNNNNNNNNNNNNNNNNNNNNNNNNNNNNNNNNNNNNNNNNNNNNNNNNNNNNNNNNNNNNNNNNNNNNNNNNNNNNNNNNKKKKKKKKKKKKKKKKKKKKKKKKKKKKKKKKKKKKKKKKKKKKKKKKKKKKKKKKKKKKKKKKKKKKKKKKKKKKKKKKK3333333333333333333333333333333333333333333333333333333333333333333333333333333333333333333333333000000000000000000000000000000000000000000000000000000000000000000000000000\"\n",
    "alpha,digit,lower,upper = 0,0,0,0\n",
    "if s.isalnum() == True:\n",
    "    print(True)\n",
    "else:\n",
    "    print(False)\n",
    "for _ in s:\n",
    "    if _.isalpha() is True:\n",
    "        alpha+=1\n",
    "    if _.isdigit() is True:\n",
    "        digit+=1\n",
    "    if _.islower() is True:\n",
    "        lower+=1\n",
    "    if _.isupper() is True:\n",
    "        upper+=1\n",
    "if alpha != 0:\n",
    "    print(True) \n",
    "else: print(False)\n",
    "if digit != 0:\n",
    "    print(True)\n",
    "else: print(False)\n",
    "if lower != 0:\n",
    "    print(True)\n",
    "else: print(False)\n",
    "if upper != 0:\n",
    "    print(True)\n",
    "else: print(False)"
   ]
  },
  {
   "cell_type": "code",
   "execution_count": null,
   "metadata": {},
   "outputs": [],
   "source": [
    "#Better way \n",
    "s = input()\n",
    "print(any([char.isalnum() for char in s]))\n",
    "print(any([char.isalpha() for char in s]))\n",
    "print(any([char.isdigit() for char in s]))\n",
    "print(any([char.islower() for char in s]))\n",
    "print(any([char.isupper() for char in s]))"
   ]
  },
  {
   "cell_type": "code",
   "execution_count": null,
   "metadata": {},
   "outputs": [],
   "source": [
    "if __name__ == '__main__':\n",
    "    n = int(input().strip())\n",
    "    if n%2 or 6 <= n <= 20:\n",
    "        print('Weird')\n",
    "    else:\n",
    "        print('Not Weird') "
   ]
  },
  {
   "cell_type": "code",
   "execution_count": null,
   "metadata": {},
   "outputs": [],
   "source": [
    "x = int(input())\n",
    "y = int(input())\n",
    "z = int(input())\n",
    "n = int(input())\n",
    "\n",
    "print([x,y,z]for x in range(x + 1) for y in range(y + 1) for z in range(z + 1) if x + y + z != n)"
   ]
  },
  {
   "cell_type": "code",
   "execution_count": null,
   "metadata": {},
   "outputs": [],
   "source": [
    "asd = 'wogbogltbwog'\n",
    "sud = 'wog'\n",
    "count = 0\n",
    "for i in range(len(asd) - len(sud) + 1):\n",
    "    if asd[i:i+len(sud)] == sud:\n",
    "        count += 1\n",
    "print(count)"
   ]
  },
  {
   "cell_type": "code",
   "execution_count": null,
   "metadata": {},
   "outputs": [],
   "source": [
    "def main():\n",
    "    # Replace all ______ with rjust, ljust or center. \n",
    "\n",
    "    thickness = int(input())  # This must be an odd number\n",
    "    c = 'H'\n",
    "    \n",
    "    # Top Cone\n",
    "    for i in range(thickness):\n",
    "        print((c * i).rjust(thickness - 1) + c + (c * i).ljust(thickness - 1))\n",
    "    \n",
    "    # Top Pillars\n",
    "    for i in range(thickness + 1):\n",
    "        print((c * thickness).center(thickness * 2) + (c * thickness).center(thickness * 6))\n",
    "    \n",
    "    # Middle Belt\n",
    "    for i in range((thickness + 1) // 2):\n",
    "        print((c * thickness * 5).center(thickness * 6))    \n",
    "    \n",
    "    # Bottom Pillars\n",
    "    for i in range(thickness + 1):\n",
    "        print((c * thickness).center(thickness * 2) + (c * thickness).center(thickness * 6))    \n",
    "    \n",
    "    # Bottom Cone\n",
    "    for i in range(thickness):\n",
    "        print(((c * (thickness - i - 1)).rjust(thickness) + c + (c * (thickness - i - 1)).ljust(thickness)).rjust(thickness * 6))  \n",
    "\n",
    "if __name__ == '__main__':\n",
    "    main()"
   ]
  },
  {
   "cell_type": "code",
   "execution_count": null,
   "metadata": {},
   "outputs": [],
   "source": [
    "sup=\"jksdgnsdbjdhgjksdbgfjkdsbdjhfsd\"\n",
    "le = 3\n",
    "a=[]\n",
    "for i in range(0,len(sup),le):\n",
    "    de = (sup[i:i+le])\n",
    "    a.append(de)\n",
    "    result = \"\\n\".join(a)\n",
    "\n",
    "print(result)"
   ]
  },
  {
   "cell_type": "code",
   "execution_count": null,
   "metadata": {},
   "outputs": [],
   "source": [
    "import textwrap\n",
    "print(textwrap.fill(sup,le))"
   ]
  },
  {
   "cell_type": "code",
   "execution_count": null,
   "metadata": {},
   "outputs": [],
   "source": [
    "b = int(input())\n",
    "for x in range(1,b+1):\n",
    "    l = int(len(f\"{b:b}\"))\n",
    "    print(f\"{x:{l}d} {x:{l}o} {x:{l}X} {x:{l}b}\")"
   ]
  },
  {
   "cell_type": "code",
   "execution_count": null,
   "metadata": {},
   "outputs": [],
   "source": [
    "def print_rangoli(size):\n",
    "    alpha = \"abcdefghijklmnopqrstuvwxyz\"\n",
    "    data = [alpha[i] for i in range(size)]\n",
    "    items = list(range(size))\n",
    "    items = items[:-1]+items[::-1]\n",
    "    for i in items:\n",
    "        temp = data[-(i+1):]\n",
    "        row = temp[::-1]+temp[1:]\n",
    "        print(\"-\".join(row).center(n*4-3, \"-\"))\n",
    "\n",
    "    \n",
    "\n",
    "if __name__ == '__main__':\n",
    "    n = int(input())\n",
    "    print_rangoli(n)"
   ]
  },
  {
   "cell_type": "code",
   "execution_count": null,
   "metadata": {},
   "outputs": [],
   "source": [
    "n=input().split(\" \")\n",
    "a = []\n",
    "for i in range(len(n)):\n",
    "    s = n[i].capitalize()\n",
    "    a.append(s)\n",
    "    result = ' '.join(a)\n",
    "print(result)\n"
   ]
  },
  {
   "cell_type": "code",
   "execution_count": null,
   "metadata": {},
   "outputs": [],
   "source": [
    "def minion_game(string):\n",
    "    # your code goes here\n",
    "    n = len(string)\n",
    "    comb = ((n)*(n+1))/2\n",
    "    count_k = 0\n",
    "    count_s = 0\n",
    "    count_k = sum([len(string[i:]) for i in range(len(string)) if string[i] in \"AEIOU\"])\n",
    "    count_s = comb - count_k\n",
    "    \n",
    "    if count_s == count_k:\n",
    "        print(\"Draw\")\n",
    "    elif count_s > count_k:\n",
    "        print(\"Stuart\", int(count_s) )\n",
    "    else:\n",
    "        print(\"Kevin\", int(count_k))\n",
    "\n",
    "if __name__ == '__main__':\n",
    "    s = input()\n",
    "    minion_game(s)"
   ]
  },
  {
   "cell_type": "code",
   "execution_count": 57,
   "metadata": {},
   "outputs": [
    {
     "name": "stdout",
     "output_type": "stream",
     "text": [
      "{'ADA', 'AAB', 'DA', 'AB', 'CDE'}\n"
     ]
    }
   ],
   "source": [
    "s='AABCDEADA'\n",
    "k=3\n",
    "n=len(s)\n",
    "ne=[]\n",
    "me = []\n",
    "for i in range(0,n,k):\n",
    "    de = (s[i:i+k])\n",
    "    ne.append(de)\n",
    "for i in ne:\n",
    "    a = i\n",
    "    for j in i:\n",
    "        count = 0\n",
    "        for l in range(len(i) - len(j) + 1):\n",
    "            if i[l:l+len(j)] == j:\n",
    "                count += 1\n",
    "                if count >= 1 and count!=0:\n",
    "                    i = i.replace(j,'',count-1)\n",
    "                    me.append(i)\n",
    "                else:\n",
    "                    me.append(i)\n",
    "                md=set(me)\n",
    "print(md)"
   ]
  },
  {
   "cell_type": "code",
   "execution_count": 60,
   "metadata": {},
   "outputs": [],
   "source": [
    "def merge_the_tools(string, k):\n",
    "    temp = []\n",
    "    len_temp = 0\n",
    "    for item in string:\n",
    "        len_temp += 1\n",
    "        if item not in temp:\n",
    "            temp.append(item)\n",
    "        if len_temp == k:\n",
    "            print (''.join(temp))\n",
    "            temp = []\n",
    "            len_temp = 0"
   ]
  },
  {
   "cell_type": "code",
   "execution_count": 61,
   "metadata": {},
   "outputs": [
    {
     "name": "stdout",
     "output_type": "stream",
     "text": [
      "AB\n",
      "CDE\n",
      "AD\n"
     ]
    }
   ],
   "source": [
    "merge_the_tools(s,k)"
   ]
  },
  {
   "cell_type": "code",
   "execution_count": 72,
   "metadata": {},
   "outputs": [
    {
     "name": "stdout",
     "output_type": "stream",
     "text": [
      "29 37 38\n"
     ]
    }
   ],
   "source": [
    "ara = [1,3,3,4,6,7,5,9]\n",
    "ara.sort()\n",
    "print(sum(ara[:-1]), sum(ara[1:]), sum(ara))\n"
   ]
  },
  {
   "cell_type": "code",
   "execution_count": 85,
   "metadata": {},
   "outputs": [],
   "source": [
    "from datetime import datetime"
   ]
  },
  {
   "cell_type": "code",
   "execution_count": 96,
   "metadata": {},
   "outputs": [
    {
     "name": "stdout",
     "output_type": "stream",
     "text": [
      "19:05:45\n"
     ]
    }
   ],
   "source": [
    "s = input()\n",
    "result = datetime.strptime(s,\"%I:%M:%S%p\").time()\n",
    "print(result)"
   ]
  },
  {
   "cell_type": "code",
   "execution_count": 102,
   "metadata": {},
   "outputs": [
    {
     "name": "stdout",
     "output_type": "stream",
     "text": [
      "1\n",
      "2\n",
      "Fizz\n",
      "4\n",
      "Buzz\n",
      "Fizz\n",
      "7\n",
      "8\n",
      "Fizz\n",
      "Buzz\n",
      "11\n",
      "Fizz\n",
      "13\n",
      "14\n",
      "FizzBuzz\n"
     ]
    }
   ],
   "source": [
    "n = (int(input()))\n",
    "a=''\n",
    "for i in range(1,n+1):\n",
    "        if i % 3 == 0:\n",
    "            a = 'Fizz'\n",
    "        elif i % 5 == 0:\n",
    "            a ='Buzz'\n",
    "        else:\n",
    "            a = i\n",
    "        if i % 15 == 0:\n",
    "             a='FizzBuzz'\n",
    "        print(a)"
   ]
  },
  {
   "cell_type": "code",
   "execution_count": 103,
   "metadata": {},
   "outputs": [
    {
     "data": {
      "text/plain": [
       "3"
      ]
     },
     "execution_count": 103,
     "metadata": {},
     "output_type": "execute_result"
    }
   ],
   "source": [
    "int(7/2)"
   ]
  },
  {
   "cell_type": "code",
   "execution_count": 119,
   "metadata": {},
   "outputs": [
    {
     "name": "stdout",
     "output_type": "stream",
     "text": [
      "[3, 5, 7]\n"
     ]
    }
   ],
   "source": [
    "lo=[1,2,3,4,5,2,7,1,4]\n",
    "\n",
    "dup = [x for x in lo if lo.count(x) == 1]\n",
    "print(dup)"
   ]
  },
  {
   "cell_type": "code",
   "execution_count": 120,
   "metadata": {},
   "outputs": [],
   "source": [
    "import numpy as np"
   ]
  },
  {
   "cell_type": "code",
   "execution_count": 1,
   "metadata": {},
   "outputs": [],
   "source": [
    "n = int(input())\n",
    "m = d = [input().split(\" \")[:n],input().strip().split()[:n],input().strip().split()[:n]]\n",
    "#d = np.array(d).astype(int)\n",
    "#print(d)\n",
    "#print(abs(sum(d.diagonal())+sum(np.fliplr(d).diagonal())))"
   ]
  },
  {
   "cell_type": "code",
   "execution_count": 26,
   "metadata": {},
   "outputs": [],
   "source": [
    "n = int(input())\n",
    "m = [input().split(\" \")[:n],input().strip().split()[:n],input().strip().split()[:n]]\n",
    "diag = [row[i] for i,row in enumerate(m)]\n",
    "iv_diag = [row[-i-1] for i,row in enumerate(m)]\n",
    "diag = [eval(i) for i in diag]\n",
    "iv_diag = [eval(i) for i in iv_diag]\n",
    "result=abs(sum(diag)+sum(iv_diag))"
   ]
  }
 ],
 "metadata": {
  "kernelspec": {
   "display_name": "Python 3",
   "language": "python",
   "name": "python3"
  },
  "language_info": {
   "codemirror_mode": {
    "name": "ipython",
    "version": 3
   },
   "file_extension": ".py",
   "mimetype": "text/x-python",
   "name": "python",
   "nbconvert_exporter": "python",
   "pygments_lexer": "ipython3",
   "version": "3.11.1"
  },
  "orig_nbformat": 4,
  "vscode": {
   "interpreter": {
    "hash": "5238573367df39f7286bb46f9ff5f08f63a01a80960060ce41e3c79b190280fa"
   }
  }
 },
 "nbformat": 4,
 "nbformat_minor": 2
}

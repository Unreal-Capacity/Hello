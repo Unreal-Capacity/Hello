{
 "cells": [
  {
   "cell_type": "code",
   "execution_count": 3,
   "metadata": {},
   "outputs": [],
   "source": [
    "import glob\n",
    "import os\n"
   ]
  },
  {
   "cell_type": "code",
   "execution_count": 2,
   "metadata": {},
   "outputs": [],
   "source": [
    "tulip = glob.glob('./tulip/*.jpg')\n",
    "rose = glob.glob('./rose/*.jpg')\n",
    "daisy = glob.glob('./daisy/*.jpg')\n",
    "dandelion = glob.glob('./dandelion/*.jpg')\n",
    "sunflower = glob.glob('./sunflower/*.jpg')"
   ]
  },
  {
   "cell_type": "code",
   "execution_count": 6,
   "metadata": {},
   "outputs": [],
   "source": [
    "CSV_FILE_NAME = 'my_file.csv'\n",
    "with open(CSV_FILE_NAME, 'w') as f:\n",
    "    for a, path in enumerate(tulip):\n",
    "        f.write(f\"{a+1}\")\n",
    "        f.write(',')\n",
    "        f.write(os.path.basename(path))\n",
    "        f.write(',')\n",
    "        f.write(path)     \n",
    "        f.write(',')      \n",
    "        f.write('tulip')\n",
    "        f.write('\\n')  \n",
    "    \n",
    "    for a, path in enumerate(rose):\n",
    "        f.write(f\"{a+1}\")\n",
    "        f.write(',')\n",
    "        f.write(os.path.basename(path))\n",
    "        f.write(',')\n",
    "        f.write(path)     \n",
    "        f.write(',')      \n",
    "        f.write('rose')\n",
    "        f.write('\\n')  \n",
    "\n",
    "    for a, path in enumerate(daisy):\n",
    "        f.write(f\"{a+1}\")\n",
    "        f.write(',')\n",
    "        f.write(os.path.basename(path))\n",
    "        f.write(',')\n",
    "        f.write(path)     \n",
    "        f.write(',')      \n",
    "        f.write('daisy')\n",
    "        f.write('\\n')  \n",
    "\n",
    "    for a, path in enumerate(sunflower):\n",
    "        f.write(f\"{a+1}\")\n",
    "        f.write(',')\n",
    "        f.write(os.path.basename(path))\n",
    "        f.write(',')\n",
    "        f.write(path)     \n",
    "        f.write(',')      \n",
    "        f.write('sunflower')\n",
    "        f.write('\\n')  \n",
    "\n",
    "    for a, path in enumerate(dandelion):\n",
    "        f.write(f\"{a+1}\")\n",
    "        f.write(',')\n",
    "        f.write(os.path.basename(path))\n",
    "        f.write(',')\n",
    "        f.write(path)     \n",
    "        f.write(',')      \n",
    "        f.write('dandelion')\n",
    "        f.write('\\n')  "
   ]
  },
  {
   "cell_type": "code",
   "execution_count": 14,
   "metadata": {},
   "outputs": [
    {
     "ename": "ValueError",
     "evalue": "The provided input folder \"flowers/.\" does not exists. Your relative path cannot be found from the current working directory \"c:\\Users\\HP\\Documents\\WPJ\\Hello\\flowers\".",
     "output_type": "error",
     "traceback": [
      "\u001b[1;31m---------------------------------------------------------------------------\u001b[0m",
      "\u001b[1;31mValueError\u001b[0m                                Traceback (most recent call last)",
      "Cell \u001b[1;32mIn[14], line 2\u001b[0m\n\u001b[0;32m      1\u001b[0m \u001b[39mimport\u001b[39;00m \u001b[39msplitfolders\u001b[39;00m\n\u001b[1;32m----> 2\u001b[0m splitfolders\u001b[39m.\u001b[39;49mfixed(\u001b[39m'\u001b[39;49m\u001b[39mflowers/.\u001b[39;49m\u001b[39m'\u001b[39;49m, output\u001b[39m=\u001b[39;49m\u001b[39m\"\u001b[39;49m\u001b[39moutput\u001b[39;49m\u001b[39m\"\u001b[39;49m, seed\u001b[39m=\u001b[39;49m\u001b[39m1337\u001b[39;49m, fixed\u001b[39m=\u001b[39;49m(\u001b[39m300\u001b[39;49m,\u001b[39m100\u001b[39;49m,\u001b[39m100\u001b[39;49m))\n",
      "File \u001b[1;32m~\\AppData\\Roaming\\Python\\Python311\\site-packages\\splitfolders\\split.py:121\u001b[0m, in \u001b[0;36mfixed\u001b[1;34m(input, output, seed, fixed, oversample, group_prefix, move)\u001b[0m\n\u001b[0;32m    116\u001b[0m \u001b[39mif\u001b[39;00m \u001b[39mlen\u001b[39m(fixed) \u001b[39m==\u001b[39m \u001b[39m3\u001b[39m \u001b[39mand\u001b[39;00m oversample:\n\u001b[0;32m    117\u001b[0m     \u001b[39mraise\u001b[39;00m \u001b[39mValueError\u001b[39;00m(\n\u001b[0;32m    118\u001b[0m         \u001b[39m\"\u001b[39m\u001b[39mUsing fixed with 3 values together with oversampling is not implemented.\u001b[39m\u001b[39m\"\u001b[39m\n\u001b[0;32m    119\u001b[0m     )\n\u001b[1;32m--> 121\u001b[0m check_input_format(\u001b[39minput\u001b[39;49m)\n\u001b[0;32m    123\u001b[0m \u001b[39mif\u001b[39;00m use_tqdm:\n\u001b[0;32m    124\u001b[0m     prog_bar \u001b[39m=\u001b[39m tqdm(desc\u001b[39m=\u001b[39m\u001b[39mf\u001b[39m\u001b[39m\"\u001b[39m\u001b[39mCopying files\u001b[39m\u001b[39m\"\u001b[39m, unit\u001b[39m=\u001b[39m\u001b[39m\"\u001b[39m\u001b[39m files\u001b[39m\u001b[39m\"\u001b[39m)\n",
      "File \u001b[1;32m~\\AppData\\Roaming\\Python\\Python311\\site-packages\\splitfolders\\split.py:56\u001b[0m, in \u001b[0;36mcheck_input_format\u001b[1;34m(input)\u001b[0m\n\u001b[0;32m     54\u001b[0m     \u001b[39mif\u001b[39;00m \u001b[39mnot\u001b[39;00m p_input\u001b[39m.\u001b[39mis_absolute():\n\u001b[0;32m     55\u001b[0m         err_msg \u001b[39m+\u001b[39m\u001b[39m=\u001b[39m \u001b[39mf\u001b[39m\u001b[39m'\u001b[39m\u001b[39m Your relative path cannot be found from the current working directory \u001b[39m\u001b[39m\"\u001b[39m\u001b[39m{\u001b[39;00mPath\u001b[39m.\u001b[39mcwd()\u001b[39m}\u001b[39;00m\u001b[39m\"\u001b[39m\u001b[39m.\u001b[39m\u001b[39m'\u001b[39m\n\u001b[1;32m---> 56\u001b[0m     \u001b[39mraise\u001b[39;00m \u001b[39mValueError\u001b[39;00m(err_msg)\n\u001b[0;32m     58\u001b[0m \u001b[39mif\u001b[39;00m \u001b[39mnot\u001b[39;00m p_input\u001b[39m.\u001b[39mis_dir():\n\u001b[0;32m     59\u001b[0m     \u001b[39mraise\u001b[39;00m \u001b[39mValueError\u001b[39;00m(\u001b[39mf\u001b[39m\u001b[39m'\u001b[39m\u001b[39mThe provided input folder \u001b[39m\u001b[39m\"\u001b[39m\u001b[39m{\u001b[39;00m\u001b[39minput\u001b[39m\u001b[39m}\u001b[39;00m\u001b[39m\"\u001b[39m\u001b[39m is not a directory\u001b[39m\u001b[39m'\u001b[39m)\n",
      "\u001b[1;31mValueError\u001b[0m: The provided input folder \"flowers/.\" does not exists. Your relative path cannot be found from the current working directory \"c:\\Users\\HP\\Documents\\WPJ\\Hello\\flowers\"."
     ]
    }
   ],
   "source": [
    "import splitfolders\n",
    "splitfolders.fixed('flowers/.', output=\"output\", seed=1337, fixed=(300,100,100))"
   ]
  }
 ],
 "metadata": {
  "kernelspec": {
   "display_name": "Python 3",
   "language": "python",
   "name": "python3"
  },
  "language_info": {
   "codemirror_mode": {
    "name": "ipython",
    "version": 3
   },
   "file_extension": ".py",
   "mimetype": "text/x-python",
   "name": "python",
   "nbconvert_exporter": "python",
   "pygments_lexer": "ipython3",
   "version": "3.11.1"
  },
  "orig_nbformat": 4
 },
 "nbformat": 4,
 "nbformat_minor": 2
}
